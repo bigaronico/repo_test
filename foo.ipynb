{
 "cells": [
  {
   "cell_type": "markdown",
   "metadata": {},
   "source": [
    "<h1 style=\"font-size:xx-large\">PyRSF Notebook</h1>\n",
    "\n",
    "### PyRSF is a rate-and-state friction (RSF) modelling package written by *Martijn van den Ende* and modified by *Nico Bigaroni*. It features:\n",
    "\n",
    "- Forward RSF modelling \n",
    "- Inversion of the RSF parameters to data\n",
    "- Adaptive or dense time-stepping procedures for forward modelling and inversion/inference\n",
    "- Bayesian inference / Markov Chain Monte Carlo (MCMC)\n",
    "- A modified RSF formulation with cut-off velocity\n",
    "- User-defined state evolution functions\n",
    "- Stick-slip simulations with stable limit cycles for K < Kc, facilitated by radiation damping"
   ]
  },
  {
   "cell_type": "code",
   "execution_count": null,
   "metadata": {},
   "outputs": [],
   "source": []
  }
 ],
 "metadata": {
  "language_info": {
   "codemirror_mode": {
    "name": "ipython",
    "version": 3
   },
   "file_extension": ".py",
   "mimetype": "text/x-python",
   "name": "python",
   "nbconvert_exporter": "python",
   "pygments_lexer": "ipython3",
   "version": "3.7.3-final"
  },
  "orig_nbformat": 2,
  "kernelspec": {
   "name": "python37364bit619099cb68634abbbdc9552079d79a2c",
   "display_name": "Python 3.7.3 64-bit"
  }
 },
 "nbformat": 4,
 "nbformat_minor": 2
}